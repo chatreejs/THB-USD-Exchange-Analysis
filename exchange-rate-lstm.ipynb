{
 "cells": [
  {
   "cell_type": "markdown",
   "metadata": {},
   "source": [
    "# THB/USD Exchange Rate Time Series Forecasting with LSTM\n",
    "\n",
    "ในชุดข้อมูลประกอบด้วยข้อมูลที่มีความสัมพันธ์กับอัตราแลกเปลี่ยนสกุลเงินบาทกับดอลล่าห์สหรัฐ (THB/USD) ในแต่ละเดือนทั้งหมด 12 ปี\n",
    "\n",
    "ข้อมูลประกอบด้วย\n",
    "1. **date**: วันที่\n",
    "2. **BAHT**: อัตราแลกเปลี่ยนสกุลเงินบาทกับดอลล่าห์สหรัฐ\n",
    "3. **RMS_TH**: อัตราการเติบโตของปริมาณเงิน\n",
    "4. **RINT_TH**: อัตราดอกเบี้ยแท้จริง\n",
    "5. **RINT_IPI**: อัตราผลผลิต"
   ]
  },
  {
   "cell_type": "code",
   "execution_count": 2,
   "metadata": {},
   "outputs": [],
   "source": [
    "import matplotlib.pyplot as plt\n",
    "import seaborn as sns\n",
    "import pandas as pd\n",
    "from keras.models import Sequential\n",
    "from keras.layers import Dense, LSTM\n",
    "\n",
    "plt.rcParams[\"figure.figsize\"] = (10, 7)\n"
   ]
  },
  {
   "cell_type": "markdown",
   "metadata": {},
   "source": [
    "## 1. Pre-processing"
   ]
  },
  {
   "cell_type": "code",
   "execution_count": 3,
   "metadata": {},
   "outputs": [
    {
     "data": {
      "text/html": [
       "<div>\n",
       "<style scoped>\n",
       "    .dataframe tbody tr th:only-of-type {\n",
       "        vertical-align: middle;\n",
       "    }\n",
       "\n",
       "    .dataframe tbody tr th {\n",
       "        vertical-align: top;\n",
       "    }\n",
       "\n",
       "    .dataframe thead th {\n",
       "        text-align: right;\n",
       "    }\n",
       "</style>\n",
       "<table border=\"1\" class=\"dataframe\">\n",
       "  <thead>\n",
       "    <tr style=\"text-align: right;\">\n",
       "      <th></th>\n",
       "      <th>BAHT</th>\n",
       "      <th>RMS_TH</th>\n",
       "      <th>RINT_TH</th>\n",
       "      <th>RINT_IPI</th>\n",
       "    </tr>\n",
       "    <tr>\n",
       "      <th>date</th>\n",
       "      <th></th>\n",
       "      <th></th>\n",
       "      <th></th>\n",
       "      <th></th>\n",
       "    </tr>\n",
       "  </thead>\n",
       "  <tbody>\n",
       "    <tr>\n",
       "      <th>2009-12-01</th>\n",
       "      <td>33.2322</td>\n",
       "      <td>NaN</td>\n",
       "      <td>0.00392</td>\n",
       "      <td>NaN</td>\n",
       "    </tr>\n",
       "    <tr>\n",
       "      <th>2010-01-01</th>\n",
       "      <td>33.0353</td>\n",
       "      <td>-0.00017</td>\n",
       "      <td>0.00192</td>\n",
       "      <td>NaN</td>\n",
       "    </tr>\n",
       "    <tr>\n",
       "      <th>2010-02-01</th>\n",
       "      <td>33.1491</td>\n",
       "      <td>0.00041</td>\n",
       "      <td>-0.00051</td>\n",
       "      <td>-0.00655</td>\n",
       "    </tr>\n",
       "    <tr>\n",
       "      <th>2010-03-01</th>\n",
       "      <td>32.5077</td>\n",
       "      <td>-0.00126</td>\n",
       "      <td>0.00319</td>\n",
       "      <td>-0.00009</td>\n",
       "    </tr>\n",
       "    <tr>\n",
       "      <th>2010-04-01</th>\n",
       "      <td>32.2877</td>\n",
       "      <td>0.00103</td>\n",
       "      <td>-0.00408</td>\n",
       "      <td>-0.01920</td>\n",
       "    </tr>\n",
       "  </tbody>\n",
       "</table>\n",
       "</div>"
      ],
      "text/plain": [
       "               BAHT   RMS_TH  RINT_TH  RINT_IPI\n",
       "date                                           \n",
       "2009-12-01  33.2322      NaN  0.00392       NaN\n",
       "2010-01-01  33.0353 -0.00017  0.00192       NaN\n",
       "2010-02-01  33.1491  0.00041 -0.00051  -0.00655\n",
       "2010-03-01  32.5077 -0.00126  0.00319  -0.00009\n",
       "2010-04-01  32.2877  0.00103 -0.00408  -0.01920"
      ]
     },
     "execution_count": 3,
     "metadata": {},
     "output_type": "execute_result"
    }
   ],
   "source": [
    "# นำเข้าไฟล์ข้อมูล\n",
    "df = pd.read_csv('data/raw_data.csv',\n",
    "                      parse_dates=['date'], index_col='date')\n",
    "df.head(5)\n"
   ]
  },
  {
   "cell_type": "code",
   "execution_count": 4,
   "metadata": {},
   "outputs": [
    {
     "data": {
      "text/html": [
       "<div>\n",
       "<style scoped>\n",
       "    .dataframe tbody tr th:only-of-type {\n",
       "        vertical-align: middle;\n",
       "    }\n",
       "\n",
       "    .dataframe tbody tr th {\n",
       "        vertical-align: top;\n",
       "    }\n",
       "\n",
       "    .dataframe thead th {\n",
       "        text-align: right;\n",
       "    }\n",
       "</style>\n",
       "<table border=\"1\" class=\"dataframe\">\n",
       "  <thead>\n",
       "    <tr style=\"text-align: right;\">\n",
       "      <th></th>\n",
       "      <th>BAHT</th>\n",
       "      <th>RMS_TH</th>\n",
       "      <th>RINT_TH</th>\n",
       "      <th>RINT_IPI</th>\n",
       "    </tr>\n",
       "    <tr>\n",
       "      <th>date</th>\n",
       "      <th></th>\n",
       "      <th></th>\n",
       "      <th></th>\n",
       "      <th></th>\n",
       "    </tr>\n",
       "  </thead>\n",
       "  <tbody>\n",
       "    <tr>\n",
       "      <th>2010-02-01</th>\n",
       "      <td>33.1491</td>\n",
       "      <td>0.00041</td>\n",
       "      <td>-0.00051</td>\n",
       "      <td>-0.00655</td>\n",
       "    </tr>\n",
       "    <tr>\n",
       "      <th>2010-03-01</th>\n",
       "      <td>32.5077</td>\n",
       "      <td>-0.00126</td>\n",
       "      <td>0.00319</td>\n",
       "      <td>-0.00009</td>\n",
       "    </tr>\n",
       "    <tr>\n",
       "      <th>2010-04-01</th>\n",
       "      <td>32.2877</td>\n",
       "      <td>0.00103</td>\n",
       "      <td>-0.00408</td>\n",
       "      <td>-0.01920</td>\n",
       "    </tr>\n",
       "    <tr>\n",
       "      <th>2010-05-01</th>\n",
       "      <td>32.3946</td>\n",
       "      <td>0.00378</td>\n",
       "      <td>-0.00069</td>\n",
       "      <td>0.02856</td>\n",
       "    </tr>\n",
       "    <tr>\n",
       "      <th>2010-06-01</th>\n",
       "      <td>32.4723</td>\n",
       "      <td>-0.00645</td>\n",
       "      <td>-0.00063</td>\n",
       "      <td>0.01926</td>\n",
       "    </tr>\n",
       "  </tbody>\n",
       "</table>\n",
       "</div>"
      ],
      "text/plain": [
       "               BAHT   RMS_TH  RINT_TH  RINT_IPI\n",
       "date                                           \n",
       "2010-02-01  33.1491  0.00041 -0.00051  -0.00655\n",
       "2010-03-01  32.5077 -0.00126  0.00319  -0.00009\n",
       "2010-04-01  32.2877  0.00103 -0.00408  -0.01920\n",
       "2010-05-01  32.3946  0.00378 -0.00069   0.02856\n",
       "2010-06-01  32.4723 -0.00645 -0.00063   0.01926"
      ]
     },
     "execution_count": 4,
     "metadata": {},
     "output_type": "execute_result"
    }
   ],
   "source": [
    "# ลบข้อมูลที่มีค่า null ทิ้ง\n",
    "df = df.dropna()\n",
    "df.head(5)"
   ]
  },
  {
   "cell_type": "code",
   "execution_count": 5,
   "metadata": {},
   "outputs": [
    {
     "name": "stdout",
     "output_type": "stream",
     "text": [
      "BAHT        float64\n",
      "RMS_TH      float64\n",
      "RINT_TH     float64\n",
      "RINT_IPI    float64\n",
      "dtype: object\n"
     ]
    },
    {
     "data": {
      "text/html": [
       "<div>\n",
       "<style scoped>\n",
       "    .dataframe tbody tr th:only-of-type {\n",
       "        vertical-align: middle;\n",
       "    }\n",
       "\n",
       "    .dataframe tbody tr th {\n",
       "        vertical-align: top;\n",
       "    }\n",
       "\n",
       "    .dataframe thead th {\n",
       "        text-align: right;\n",
       "    }\n",
       "</style>\n",
       "<table border=\"1\" class=\"dataframe\">\n",
       "  <thead>\n",
       "    <tr style=\"text-align: right;\">\n",
       "      <th></th>\n",
       "      <th>BAHT</th>\n",
       "      <th>RMS_TH</th>\n",
       "      <th>RINT_TH</th>\n",
       "      <th>RINT_IPI</th>\n",
       "    </tr>\n",
       "  </thead>\n",
       "  <tbody>\n",
       "    <tr>\n",
       "      <th>count</th>\n",
       "      <td>143.000000</td>\n",
       "      <td>143.000000</td>\n",
       "      <td>143.000000</td>\n",
       "      <td>143.000000</td>\n",
       "    </tr>\n",
       "    <tr>\n",
       "      <th>mean</th>\n",
       "      <td>32.214908</td>\n",
       "      <td>-0.000764</td>\n",
       "      <td>0.006676</td>\n",
       "      <td>0.000623</td>\n",
       "    </tr>\n",
       "    <tr>\n",
       "      <th>std</th>\n",
       "      <td>1.697870</td>\n",
       "      <td>0.003149</td>\n",
       "      <td>0.006844</td>\n",
       "      <td>0.014702</td>\n",
       "    </tr>\n",
       "    <tr>\n",
       "      <th>min</th>\n",
       "      <td>29.076500</td>\n",
       "      <td>-0.011590</td>\n",
       "      <td>-0.009260</td>\n",
       "      <td>-0.046180</td>\n",
       "    </tr>\n",
       "    <tr>\n",
       "      <th>25%</th>\n",
       "      <td>30.863600</td>\n",
       "      <td>-0.001905</td>\n",
       "      <td>0.001830</td>\n",
       "      <td>-0.007995</td>\n",
       "    </tr>\n",
       "    <tr>\n",
       "      <th>50%</th>\n",
       "      <td>31.969700</td>\n",
       "      <td>-0.000770</td>\n",
       "      <td>0.006410</td>\n",
       "      <td>-0.000680</td>\n",
       "    </tr>\n",
       "    <tr>\n",
       "      <th>75%</th>\n",
       "      <td>33.066300</td>\n",
       "      <td>0.000585</td>\n",
       "      <td>0.011340</td>\n",
       "      <td>0.010420</td>\n",
       "    </tr>\n",
       "    <tr>\n",
       "      <th>max</th>\n",
       "      <td>36.161500</td>\n",
       "      <td>0.022210</td>\n",
       "      <td>0.023990</td>\n",
       "      <td>0.046490</td>\n",
       "    </tr>\n",
       "  </tbody>\n",
       "</table>\n",
       "</div>"
      ],
      "text/plain": [
       "             BAHT      RMS_TH     RINT_TH    RINT_IPI\n",
       "count  143.000000  143.000000  143.000000  143.000000\n",
       "mean    32.214908   -0.000764    0.006676    0.000623\n",
       "std      1.697870    0.003149    0.006844    0.014702\n",
       "min     29.076500   -0.011590   -0.009260   -0.046180\n",
       "25%     30.863600   -0.001905    0.001830   -0.007995\n",
       "50%     31.969700   -0.000770    0.006410   -0.000680\n",
       "75%     33.066300    0.000585    0.011340    0.010420\n",
       "max     36.161500    0.022210    0.023990    0.046490"
      ]
     },
     "execution_count": 5,
     "metadata": {},
     "output_type": "execute_result"
    }
   ],
   "source": [
    "# ดูประเภทของข้อมูลในแต่ละคอลัมน์\n",
    "print(df.dtypes)\n",
    "# ดูรายละเอียดของข้อมูล\n",
    "df.describe()"
   ]
  },
  {
   "cell_type": "code",
   "execution_count": 6,
   "metadata": {},
   "outputs": [],
   "source": [
    "# export ข้อมูลออก สำหรับนำไปใช้งานต่อ\n",
    "df.to_csv('data/clean_data.csv')\n"
   ]
  },
  {
   "cell_type": "markdown",
   "metadata": {},
   "source": [
    "## 2. Multivariate LSTM Forecast Model"
   ]
  },
  {
   "cell_type": "markdown",
   "metadata": {},
   "source": [
    "### 2.1 LSTM Data Preparation\n",
    "\n",
    "ในขั้นตอนแรกของการเตรียม dataset สำหรับ LSTM นั้นเราจะต้องทำการจัดเฟรมของ dataset ให้อยู่ในรูปของปัญหา Supervised Learning\n",
    "\n",
    "วิธีการทำคือการจัดเฟรมของข้อมูลเพื่อทำนายอัตราแลกเปลี่ยนของสกุลเงิน (LBATH) ณ เดือนปัจจุบัน (t) โดยพิจารณาจากอัตราการเติบโตของปริมาณเงิน (RMS_TH) อัตราดอกเบี้ยแท้จริง (RINT_TH) และอัตราผลผลิต (RINT_IPI) ในเวลาก่อนหน้า\n"
   ]
  },
  {
   "cell_type": "code",
   "execution_count": 7,
   "metadata": {},
   "outputs": [],
   "source": [
    "def timeseries_to_supervised(data, n_in=1, n_out=1, dropnan=True, features=None):\n",
    "    \"\"\"\n",
    "        Frame a time series as a supervised learning dataset.\n",
    "        Arguments:\n",
    "                data: Sequence of observations as a list or NumPy array.\n",
    "                n_in: Number of lag observations as input (X).\n",
    "                n_out: Number of observations as output (y).\n",
    "                dropnan: Boolean whether or not to drop rows with NaN values.\n",
    "        Returns:\n",
    "                Pandas DataFrame of series framed for supervised learning.\n",
    "        \"\"\"\n",
    "    n_vars = 1 if type(data) is list else data.shape[1]\n",
    "    df = pd.DataFrame(data)\n",
    "    cols, names = list(), list()\n",
    "\n",
    "    # input sequence (t-n, ... t-1)\n",
    "    for i in range(n_in, 0, -1):\n",
    "        cols.append(df.shift(i))\n",
    "        names += [f'{features[j]}(t-{i})' for j in range(n_vars)]\n",
    "\n",
    "    # forecast sequence (t, t+1, ... t+n)\n",
    "    for i in range(0, n_out):\n",
    "        cols.append(df.shift(-i))\n",
    "        if i == 0:\n",
    "            names += [f'{features[j]}(t)' for j in range(n_vars)]\n",
    "        else:\n",
    "            names += [f'{features[j]}(t+{i})' for j in range(n_vars)]\n",
    "\n",
    "    # put it all together\n",
    "    agg = pd.concat(cols, axis=1)\n",
    "    agg.columns = names\n",
    "\n",
    "    # drop rows with NaN\n",
    "    if dropnan:\n",
    "        agg.dropna(inplace=True)\n",
    "    return agg\n"
   ]
  },
  {
   "cell_type": "markdown",
   "metadata": {},
   "source": [
    "หลังจากทำการแปลง dataset เราจะเห็นว่ามีชุดตัวแปรนำเข้าในเวลาก่อนหน้า และตัวแปรส่งออก (อัตราแลกเปลี่ยนของสกุลเงิน ณ เดือนปัจจุบัน)"
   ]
  },
  {
   "cell_type": "code",
   "execution_count": 8,
   "metadata": {},
   "outputs": [
    {
     "data": {
      "text/html": [
       "<div>\n",
       "<style scoped>\n",
       "    .dataframe tbody tr th:only-of-type {\n",
       "        vertical-align: middle;\n",
       "    }\n",
       "\n",
       "    .dataframe tbody tr th {\n",
       "        vertical-align: top;\n",
       "    }\n",
       "\n",
       "    .dataframe thead th {\n",
       "        text-align: right;\n",
       "    }\n",
       "</style>\n",
       "<table border=\"1\" class=\"dataframe\">\n",
       "  <thead>\n",
       "    <tr style=\"text-align: right;\">\n",
       "      <th></th>\n",
       "      <th>BAHT(t-1)</th>\n",
       "      <th>RMS_TH(t-1)</th>\n",
       "      <th>RINT_TH(t-1)</th>\n",
       "      <th>RINT_IPI(t-1)</th>\n",
       "      <th>BAHT(t)</th>\n",
       "      <th>RMS_TH(t)</th>\n",
       "      <th>RINT_TH(t)</th>\n",
       "      <th>RINT_IPI(t)</th>\n",
       "    </tr>\n",
       "  </thead>\n",
       "  <tbody>\n",
       "    <tr>\n",
       "      <th>1</th>\n",
       "      <td>0.149640</td>\n",
       "      <td>-0.289941</td>\n",
       "      <td>-0.473684</td>\n",
       "      <td>-0.144707</td>\n",
       "      <td>-0.031418</td>\n",
       "      <td>-0.388757</td>\n",
       "      <td>-0.251128</td>\n",
       "      <td>-0.005288</td>\n",
       "    </tr>\n",
       "    <tr>\n",
       "      <th>2</th>\n",
       "      <td>-0.031418</td>\n",
       "      <td>-0.388757</td>\n",
       "      <td>-0.251128</td>\n",
       "      <td>-0.005288</td>\n",
       "      <td>-0.093522</td>\n",
       "      <td>-0.253254</td>\n",
       "      <td>-0.688421</td>\n",
       "      <td>-0.417719</td>\n",
       "    </tr>\n",
       "    <tr>\n",
       "      <th>3</th>\n",
       "      <td>-0.093522</td>\n",
       "      <td>-0.253254</td>\n",
       "      <td>-0.688421</td>\n",
       "      <td>-0.417719</td>\n",
       "      <td>-0.063345</td>\n",
       "      <td>-0.090533</td>\n",
       "      <td>-0.484511</td>\n",
       "      <td>0.613036</td>\n",
       "    </tr>\n",
       "    <tr>\n",
       "      <th>4</th>\n",
       "      <td>-0.063345</td>\n",
       "      <td>-0.090533</td>\n",
       "      <td>-0.484511</td>\n",
       "      <td>0.613036</td>\n",
       "      <td>-0.041411</td>\n",
       "      <td>-0.695858</td>\n",
       "      <td>-0.480902</td>\n",
       "      <td>0.412323</td>\n",
       "    </tr>\n",
       "    <tr>\n",
       "      <th>5</th>\n",
       "      <td>-0.041411</td>\n",
       "      <td>-0.695858</td>\n",
       "      <td>-0.480902</td>\n",
       "      <td>0.412323</td>\n",
       "      <td>-0.082569</td>\n",
       "      <td>-0.305325</td>\n",
       "      <td>-0.263158</td>\n",
       "      <td>-0.154635</td>\n",
       "    </tr>\n",
       "  </tbody>\n",
       "</table>\n",
       "</div>"
      ],
      "text/plain": [
       "   BAHT(t-1)  RMS_TH(t-1)  RINT_TH(t-1)  RINT_IPI(t-1)   BAHT(t)  RMS_TH(t)  \\\n",
       "1   0.149640    -0.289941     -0.473684      -0.144707 -0.031418  -0.388757   \n",
       "2  -0.031418    -0.388757     -0.251128      -0.005288 -0.093522  -0.253254   \n",
       "3  -0.093522    -0.253254     -0.688421      -0.417719 -0.063345  -0.090533   \n",
       "4  -0.063345    -0.090533     -0.484511       0.613036 -0.041411  -0.695858   \n",
       "5  -0.041411    -0.695858     -0.480902       0.412323 -0.082569  -0.305325   \n",
       "\n",
       "   RINT_TH(t)  RINT_IPI(t)  \n",
       "1   -0.251128    -0.005288  \n",
       "2   -0.688421    -0.417719  \n",
       "3   -0.484511     0.613036  \n",
       "4   -0.480902     0.412323  \n",
       "5   -0.263158    -0.154635  "
      ]
     },
     "execution_count": 8,
     "metadata": {},
     "output_type": "execute_result"
    }
   ],
   "source": [
    "from sklearn.preprocessing import MinMaxScaler\n",
    "\n",
    "# ดึงข้อมูลสำหรับการเตรียม\n",
    "df = pd.read_csv('data/clean_data.csv', header=0, index_col=0)\n",
    "values = df.values\n",
    "\n",
    "# ensure all data is float\n",
    "# values = values.astype('float32')\n",
    "\n",
    "# ทำการ normalize features ด้วย MinMaxScaler\n",
    "scaler = MinMaxScaler(feature_range=(-1, 1))\n",
    "scaled = scaler.fit_transform(values)\n",
    "\n",
    "# กำหนดค่า lag และ ahead\n",
    "lag = 1\n",
    "ahead = 1\n",
    "reframed = timeseries_to_supervised(scaled, lag, ahead, features=df.columns)\n",
    "reframed.head()\n"
   ]
  },
  {
   "cell_type": "code",
   "execution_count": 9,
   "metadata": {},
   "outputs": [
    {
     "data": {
      "text/html": [
       "<div>\n",
       "<style scoped>\n",
       "    .dataframe tbody tr th:only-of-type {\n",
       "        vertical-align: middle;\n",
       "    }\n",
       "\n",
       "    .dataframe tbody tr th {\n",
       "        vertical-align: top;\n",
       "    }\n",
       "\n",
       "    .dataframe thead th {\n",
       "        text-align: right;\n",
       "    }\n",
       "</style>\n",
       "<table border=\"1\" class=\"dataframe\">\n",
       "  <thead>\n",
       "    <tr style=\"text-align: right;\">\n",
       "      <th></th>\n",
       "      <th>BAHT(t-1)</th>\n",
       "      <th>RMS_TH(t-1)</th>\n",
       "      <th>RINT_TH(t-1)</th>\n",
       "      <th>RINT_IPI(t-1)</th>\n",
       "      <th>BAHT(t)</th>\n",
       "    </tr>\n",
       "  </thead>\n",
       "  <tbody>\n",
       "    <tr>\n",
       "      <th>1</th>\n",
       "      <td>0.149640</td>\n",
       "      <td>-0.289941</td>\n",
       "      <td>-0.473684</td>\n",
       "      <td>-0.144707</td>\n",
       "      <td>-0.031418</td>\n",
       "    </tr>\n",
       "    <tr>\n",
       "      <th>2</th>\n",
       "      <td>-0.031418</td>\n",
       "      <td>-0.388757</td>\n",
       "      <td>-0.251128</td>\n",
       "      <td>-0.005288</td>\n",
       "      <td>-0.093522</td>\n",
       "    </tr>\n",
       "    <tr>\n",
       "      <th>3</th>\n",
       "      <td>-0.093522</td>\n",
       "      <td>-0.253254</td>\n",
       "      <td>-0.688421</td>\n",
       "      <td>-0.417719</td>\n",
       "      <td>-0.063345</td>\n",
       "    </tr>\n",
       "    <tr>\n",
       "      <th>4</th>\n",
       "      <td>-0.063345</td>\n",
       "      <td>-0.090533</td>\n",
       "      <td>-0.484511</td>\n",
       "      <td>0.613036</td>\n",
       "      <td>-0.041411</td>\n",
       "    </tr>\n",
       "    <tr>\n",
       "      <th>5</th>\n",
       "      <td>-0.041411</td>\n",
       "      <td>-0.695858</td>\n",
       "      <td>-0.480902</td>\n",
       "      <td>0.412323</td>\n",
       "      <td>-0.082569</td>\n",
       "    </tr>\n",
       "  </tbody>\n",
       "</table>\n",
       "</div>"
      ],
      "text/plain": [
       "   BAHT(t-1)  RMS_TH(t-1)  RINT_TH(t-1)  RINT_IPI(t-1)   BAHT(t)\n",
       "1   0.149640    -0.289941     -0.473684      -0.144707 -0.031418\n",
       "2  -0.031418    -0.388757     -0.251128      -0.005288 -0.093522\n",
       "3  -0.093522    -0.253254     -0.688421      -0.417719 -0.063345\n",
       "4  -0.063345    -0.090533     -0.484511       0.613036 -0.041411\n",
       "5  -0.041411    -0.695858     -0.480902       0.412323 -0.082569"
      ]
     },
     "execution_count": 9,
     "metadata": {},
     "output_type": "execute_result"
    }
   ],
   "source": [
    "# drop คอลัมน์ที่ไม่ต้องการใช้ในการทำนาย\n",
    "reframed.drop(['RMS_TH(t)', 'RINT_TH(t)', 'RINT_IPI(t)'], axis=1, inplace=True)\n",
    "reframed.head()\n"
   ]
  },
  {
   "cell_type": "markdown",
   "metadata": {},
   "source": [
    "### 2.2 Train-Test Split\n",
    "\n",
    "ในขั้นตอนนี้จะทำการแบ่งชุดข้อมูลเป็น 2 ชุดคือ train และ test จากนั้นจะแยกชุดข้อมูล train test ออกเป็นข้อมูลที่จะใช้ในการ input และ output ของแบบจำลอง\n",
    "โดยแปลงค่าของชุดข้อมูลให้อยู่ในรูปแบบ 3 มิติ ซึ่งถูกแบ่งออกเป็น (samples, timesteps, features) เพื่อใช้ในแบบจำลอง LSTM"
   ]
  },
  {
   "cell_type": "code",
   "execution_count": 10,
   "metadata": {},
   "outputs": [
    {
     "name": "stdout",
     "output_type": "stream",
     "text": [
      "(99, 1, 4) (99, 1) (43, 1, 4) (43, 1)\n"
     ]
    }
   ],
   "source": [
    "# กำหนด train / test โดยแบ่งเป็น train 90% และ test 10%\n",
    "values = reframed.values\n",
    "n_train = int(len(values) * 0.7)\n",
    "train = values[:n_train, :]\n",
    "test = values[n_train:, :]\n",
    "\n",
    "# แบ่ง train / test ออกเป็น input และ outputs เพื่อใส่ในแบบจำลอง\n",
    "X_train, y_train = train[:, :-ahead], train[:, -ahead:]\n",
    "X_test, y_test = test[:, :-ahead], test[:, -ahead:]\n",
    "\n",
    "# reshape ข้อมูล input ให้เป็น 3D (samples, timesteps, features)\n",
    "X_train = X_train.reshape(X_train.shape[0], lag, int(X_train.shape[1]/lag))\n",
    "X_test = X_test.reshape(X_test.shape[0], lag, int(X_test.shape[1]/lag))\n",
    "print(X_train.shape, y_train.shape, X_test.shape, y_test.shape)\n"
   ]
  },
  {
   "cell_type": "markdown",
   "metadata": {},
   "source": [
    "### 2.3 Grid Search\n",
    "\n",
    "จากนั้นจะใช้ grid search ในการ tuning parameter เพื่อหาค่า epochs, hidden neurons และ batch size ที่ดีที่สุด"
   ]
  },
  {
   "cell_type": "code",
   "execution_count": 117,
   "metadata": {},
   "outputs": [],
   "source": [
    "from sklearn.model_selection import GridSearchCV\n",
    "from keras.wrappers.scikit_learn import KerasRegressor\n"
   ]
  },
  {
   "cell_type": "code",
   "execution_count": 18,
   "metadata": {},
   "outputs": [],
   "source": [
    "def create_model(neurons=1):\n",
    "    model = Sequential()\n",
    "    model.add(LSTM(neurons, input_shape=(\n",
    "        X_train.shape[1], X_train.shape[2])))\n",
    "    model.add(Dense(1))\n",
    "    model.compile(loss='mse', optimizer='adam', metrics=['accuracy'])\n",
    "    return model\n"
   ]
  },
  {
   "cell_type": "code",
   "execution_count": 21,
   "metadata": {},
   "outputs": [],
   "source": [
    "# create model\n",
    "model = KerasRegressor(build_fn=create_model, verbose=0)\n",
    "\n",
    "# define the grid search parameters\n",
    "neurons = [1, 5, 10, 15, 20, 25, 30]\n",
    "epochs = [10, 50, 100, 200]\n",
    "batch_size = [4, 8, 16, 32, 64, 128]\n",
    "param_grid = dict(neurons=neurons, epochs=epochs, batch_size=batch_size)\n"
   ]
  },
  {
   "cell_type": "code",
   "execution_count": 22,
   "metadata": {},
   "outputs": [
    {
     "name": "stdout",
     "output_type": "stream",
     "text": [
      "Fitting 5 folds for each of 168 candidates, totalling 840 fits\n",
      "WARNING:tensorflow:5 out of the last 15 calls to <function Model.make_test_function.<locals>.test_function at 0x7fccbeb2ef70> triggered tf.function retracing. Tracing is expensive and the excessive number of tracings could be due to (1) creating @tf.function repeatedly in a loop, (2) passing tensors with different shapes, (3) passing Python objects instead of tensors. For (1), please define your @tf.function outside of the loop. For (2), @tf.function has experimental_relax_shapes=True option that relaxes argument shapes that can avoid unnecessary retracing. For (3), please refer to https://www.tensorflow.org/guide/function#controlling_retracing and https://www.tensorflow.org/api_docs/python/tf/function for  more details.\n",
      "WARNING:tensorflow:5 out of the last 13 calls to <function Model.make_test_function.<locals>.test_function at 0x7fccbb760550> triggered tf.function retracing. Tracing is expensive and the excessive number of tracings could be due to (1) creating @tf.function repeatedly in a loop, (2) passing tensors with different shapes, (3) passing Python objects instead of tensors. For (1), please define your @tf.function outside of the loop. For (2), @tf.function has experimental_relax_shapes=True option that relaxes argument shapes that can avoid unnecessary retracing. For (3), please refer to https://www.tensorflow.org/guide/function#controlling_retracing and https://www.tensorflow.org/api_docs/python/tf/function for  more details.\n"
     ]
    }
   ],
   "source": [
    "grid = GridSearchCV(estimator=model,\n",
    "                    param_grid=param_grid,\n",
    "                    n_jobs=1,\n",
    "                    verbose=1)\n",
    "grid_result = grid.fit(X_train, y_train)\n"
   ]
  },
  {
   "cell_type": "code",
   "execution_count": 23,
   "metadata": {
    "collapsed": true
   },
   "outputs": [
    {
     "name": "stdout",
     "output_type": "stream",
     "text": [
      "Best: -0.015572 using {'batch_size': 4, 'epochs': 200, 'neurons': 10}\n",
      "-0.321001 (0.187769) with: {'batch_size': 4, 'epochs': 10, 'neurons': 1}\n",
      "-0.178844 (0.100728) with: {'batch_size': 4, 'epochs': 10, 'neurons': 5}\n",
      "-0.244212 (0.151761) with: {'batch_size': 4, 'epochs': 10, 'neurons': 10}\n",
      "-0.210539 (0.118804) with: {'batch_size': 4, 'epochs': 10, 'neurons': 15}\n",
      "-0.159644 (0.101775) with: {'batch_size': 4, 'epochs': 10, 'neurons': 20}\n",
      "-0.125260 (0.072358) with: {'batch_size': 4, 'epochs': 10, 'neurons': 25}\n",
      "-0.071852 (0.050330) with: {'batch_size': 4, 'epochs': 10, 'neurons': 30}\n",
      "-0.178356 (0.144320) with: {'batch_size': 4, 'epochs': 50, 'neurons': 1}\n",
      "-0.019338 (0.003076) with: {'batch_size': 4, 'epochs': 50, 'neurons': 5}\n",
      "-0.017553 (0.003348) with: {'batch_size': 4, 'epochs': 50, 'neurons': 10}\n",
      "-0.016064 (0.002516) with: {'batch_size': 4, 'epochs': 50, 'neurons': 15}\n",
      "-0.016407 (0.003420) with: {'batch_size': 4, 'epochs': 50, 'neurons': 20}\n",
      "-0.016000 (0.002839) with: {'batch_size': 4, 'epochs': 50, 'neurons': 25}\n",
      "-0.016260 (0.002896) with: {'batch_size': 4, 'epochs': 50, 'neurons': 30}\n",
      "-0.051939 (0.054443) with: {'batch_size': 4, 'epochs': 100, 'neurons': 1}\n",
      "-0.018851 (0.004330) with: {'batch_size': 4, 'epochs': 100, 'neurons': 5}\n",
      "-0.017098 (0.002516) with: {'batch_size': 4, 'epochs': 100, 'neurons': 10}\n",
      "-0.016648 (0.002050) with: {'batch_size': 4, 'epochs': 100, 'neurons': 15}\n",
      "-0.016715 (0.003246) with: {'batch_size': 4, 'epochs': 100, 'neurons': 20}\n",
      "-0.015717 (0.003294) with: {'batch_size': 4, 'epochs': 100, 'neurons': 25}\n",
      "-0.016366 (0.002776) with: {'batch_size': 4, 'epochs': 100, 'neurons': 30}\n",
      "-0.026319 (0.007995) with: {'batch_size': 4, 'epochs': 200, 'neurons': 1}\n",
      "-0.018121 (0.002188) with: {'batch_size': 4, 'epochs': 200, 'neurons': 5}\n",
      "-0.015572 (0.002177) with: {'batch_size': 4, 'epochs': 200, 'neurons': 10}\n",
      "-0.016068 (0.003170) with: {'batch_size': 4, 'epochs': 200, 'neurons': 15}\n",
      "-0.016255 (0.002420) with: {'batch_size': 4, 'epochs': 200, 'neurons': 20}\n",
      "-0.016245 (0.002853) with: {'batch_size': 4, 'epochs': 200, 'neurons': 25}\n",
      "-0.016745 (0.004095) with: {'batch_size': 4, 'epochs': 200, 'neurons': 30}\n",
      "-0.301886 (0.158376) with: {'batch_size': 8, 'epochs': 10, 'neurons': 1}\n",
      "-0.222802 (0.136849) with: {'batch_size': 8, 'epochs': 10, 'neurons': 5}\n",
      "-0.290125 (0.167863) with: {'batch_size': 8, 'epochs': 10, 'neurons': 10}\n",
      "-0.284545 (0.147116) with: {'batch_size': 8, 'epochs': 10, 'neurons': 15}\n",
      "-0.242395 (0.141602) with: {'batch_size': 8, 'epochs': 10, 'neurons': 20}\n",
      "-0.254469 (0.140227) with: {'batch_size': 8, 'epochs': 10, 'neurons': 25}\n",
      "-0.228053 (0.151787) with: {'batch_size': 8, 'epochs': 10, 'neurons': 30}\n",
      "-0.205616 (0.148287) with: {'batch_size': 8, 'epochs': 50, 'neurons': 1}\n",
      "-0.051839 (0.056173) with: {'batch_size': 8, 'epochs': 50, 'neurons': 5}\n",
      "-0.021656 (0.013064) with: {'batch_size': 8, 'epochs': 50, 'neurons': 10}\n",
      "-0.017725 (0.004371) with: {'batch_size': 8, 'epochs': 50, 'neurons': 15}\n",
      "-0.016972 (0.003978) with: {'batch_size': 8, 'epochs': 50, 'neurons': 20}\n",
      "-0.016944 (0.004223) with: {'batch_size': 8, 'epochs': 50, 'neurons': 25}\n",
      "-0.016409 (0.002906) with: {'batch_size': 8, 'epochs': 50, 'neurons': 30}\n",
      "-0.157391 (0.120546) with: {'batch_size': 8, 'epochs': 100, 'neurons': 1}\n",
      "-0.020802 (0.006823) with: {'batch_size': 8, 'epochs': 100, 'neurons': 5}\n",
      "-0.017157 (0.003366) with: {'batch_size': 8, 'epochs': 100, 'neurons': 10}\n",
      "-0.016565 (0.002927) with: {'batch_size': 8, 'epochs': 100, 'neurons': 15}\n",
      "-0.016577 (0.003293) with: {'batch_size': 8, 'epochs': 100, 'neurons': 20}\n",
      "-0.015937 (0.002613) with: {'batch_size': 8, 'epochs': 100, 'neurons': 25}\n",
      "-0.016227 (0.002691) with: {'batch_size': 8, 'epochs': 100, 'neurons': 30}\n",
      "-0.021707 (0.008808) with: {'batch_size': 8, 'epochs': 200, 'neurons': 1}\n",
      "-0.016584 (0.002553) with: {'batch_size': 8, 'epochs': 200, 'neurons': 5}\n",
      "-0.016184 (0.002616) with: {'batch_size': 8, 'epochs': 200, 'neurons': 10}\n",
      "-0.016590 (0.002642) with: {'batch_size': 8, 'epochs': 200, 'neurons': 15}\n",
      "-0.015718 (0.002622) with: {'batch_size': 8, 'epochs': 200, 'neurons': 20}\n",
      "-0.015647 (0.002165) with: {'batch_size': 8, 'epochs': 200, 'neurons': 25}\n",
      "-0.015821 (0.002466) with: {'batch_size': 8, 'epochs': 200, 'neurons': 30}\n",
      "-0.321651 (0.116263) with: {'batch_size': 16, 'epochs': 10, 'neurons': 1}\n",
      "-0.295262 (0.180515) with: {'batch_size': 16, 'epochs': 10, 'neurons': 5}\n",
      "-0.311848 (0.166840) with: {'batch_size': 16, 'epochs': 10, 'neurons': 10}\n",
      "-0.295380 (0.169055) with: {'batch_size': 16, 'epochs': 10, 'neurons': 15}\n",
      "-0.285455 (0.157582) with: {'batch_size': 16, 'epochs': 10, 'neurons': 20}\n",
      "-0.281860 (0.148734) with: {'batch_size': 16, 'epochs': 10, 'neurons': 25}\n",
      "-0.286256 (0.157497) with: {'batch_size': 16, 'epochs': 10, 'neurons': 30}\n",
      "-0.279364 (0.133897) with: {'batch_size': 16, 'epochs': 50, 'neurons': 1}\n",
      "-0.238873 (0.126097) with: {'batch_size': 16, 'epochs': 50, 'neurons': 5}\n",
      "-0.137197 (0.111970) with: {'batch_size': 16, 'epochs': 50, 'neurons': 10}\n",
      "-0.067543 (0.060865) with: {'batch_size': 16, 'epochs': 50, 'neurons': 15}\n",
      "-0.027514 (0.015204) with: {'batch_size': 16, 'epochs': 50, 'neurons': 20}\n",
      "-0.020410 (0.006810) with: {'batch_size': 16, 'epochs': 50, 'neurons': 25}\n",
      "-0.017732 (0.005474) with: {'batch_size': 16, 'epochs': 50, 'neurons': 30}\n",
      "-0.165964 (0.147080) with: {'batch_size': 16, 'epochs': 100, 'neurons': 1}\n",
      "-0.044612 (0.042361) with: {'batch_size': 16, 'epochs': 100, 'neurons': 5}\n",
      "-0.020168 (0.008613) with: {'batch_size': 16, 'epochs': 100, 'neurons': 10}\n",
      "-0.017406 (0.002354) with: {'batch_size': 16, 'epochs': 100, 'neurons': 15}\n",
      "-0.016796 (0.003136) with: {'batch_size': 16, 'epochs': 100, 'neurons': 20}\n",
      "-0.016540 (0.003095) with: {'batch_size': 16, 'epochs': 100, 'neurons': 25}\n",
      "-0.016510 (0.003037) with: {'batch_size': 16, 'epochs': 100, 'neurons': 30}\n",
      "-0.152956 (0.149285) with: {'batch_size': 16, 'epochs': 200, 'neurons': 1}\n",
      "-0.018800 (0.004141) with: {'batch_size': 16, 'epochs': 200, 'neurons': 5}\n",
      "-0.016600 (0.002851) with: {'batch_size': 16, 'epochs': 200, 'neurons': 10}\n",
      "-0.016569 (0.002980) with: {'batch_size': 16, 'epochs': 200, 'neurons': 15}\n",
      "-0.015976 (0.002867) with: {'batch_size': 16, 'epochs': 200, 'neurons': 20}\n",
      "-0.016070 (0.003189) with: {'batch_size': 16, 'epochs': 200, 'neurons': 25}\n",
      "-0.015768 (0.002714) with: {'batch_size': 16, 'epochs': 200, 'neurons': 30}\n",
      "-0.301965 (0.151076) with: {'batch_size': 32, 'epochs': 10, 'neurons': 1}\n",
      "-0.307159 (0.150862) with: {'batch_size': 32, 'epochs': 10, 'neurons': 5}\n",
      "-0.307242 (0.153554) with: {'batch_size': 32, 'epochs': 10, 'neurons': 10}\n",
      "-0.303868 (0.148773) with: {'batch_size': 32, 'epochs': 10, 'neurons': 15}\n",
      "-0.338560 (0.178504) with: {'batch_size': 32, 'epochs': 10, 'neurons': 20}\n",
      "-0.304501 (0.169034) with: {'batch_size': 32, 'epochs': 10, 'neurons': 25}\n",
      "-0.290166 (0.142639) with: {'batch_size': 32, 'epochs': 10, 'neurons': 30}\n",
      "-0.318318 (0.203692) with: {'batch_size': 32, 'epochs': 50, 'neurons': 1}\n",
      "-0.269164 (0.173632) with: {'batch_size': 32, 'epochs': 50, 'neurons': 5}\n",
      "-0.177443 (0.085213) with: {'batch_size': 32, 'epochs': 50, 'neurons': 10}\n",
      "-0.203715 (0.123387) with: {'batch_size': 32, 'epochs': 50, 'neurons': 15}\n",
      "-0.153344 (0.094839) with: {'batch_size': 32, 'epochs': 50, 'neurons': 20}\n",
      "-0.136634 (0.075235) with: {'batch_size': 32, 'epochs': 50, 'neurons': 25}\n",
      "-0.089262 (0.052320) with: {'batch_size': 32, 'epochs': 50, 'neurons': 30}\n",
      "-0.220860 (0.195531) with: {'batch_size': 32, 'epochs': 100, 'neurons': 1}\n",
      "-0.133079 (0.081487) with: {'batch_size': 32, 'epochs': 100, 'neurons': 5}\n",
      "-0.068144 (0.074313) with: {'batch_size': 32, 'epochs': 100, 'neurons': 10}\n",
      "-0.031458 (0.030223) with: {'batch_size': 32, 'epochs': 100, 'neurons': 15}\n",
      "-0.020219 (0.009513) with: {'batch_size': 32, 'epochs': 100, 'neurons': 20}\n",
      "-0.017575 (0.005240) with: {'batch_size': 32, 'epochs': 100, 'neurons': 25}\n",
      "-0.016540 (0.003952) with: {'batch_size': 32, 'epochs': 100, 'neurons': 30}\n",
      "-0.141700 (0.120465) with: {'batch_size': 32, 'epochs': 200, 'neurons': 1}\n",
      "-0.021702 (0.009583) with: {'batch_size': 32, 'epochs': 200, 'neurons': 5}\n",
      "-0.018712 (0.003979) with: {'batch_size': 32, 'epochs': 200, 'neurons': 10}\n",
      "-0.016949 (0.003223) with: {'batch_size': 32, 'epochs': 200, 'neurons': 15}\n",
      "-0.016125 (0.002749) with: {'batch_size': 32, 'epochs': 200, 'neurons': 20}\n",
      "-0.016775 (0.003270) with: {'batch_size': 32, 'epochs': 200, 'neurons': 25}\n",
      "-0.016427 (0.003379) with: {'batch_size': 32, 'epochs': 200, 'neurons': 30}\n",
      "-0.348765 (0.156240) with: {'batch_size': 64, 'epochs': 10, 'neurons': 1}\n",
      "-0.316985 (0.145455) with: {'batch_size': 64, 'epochs': 10, 'neurons': 5}\n",
      "-0.339341 (0.176736) with: {'batch_size': 64, 'epochs': 10, 'neurons': 10}\n",
      "-0.291002 (0.141469) with: {'batch_size': 64, 'epochs': 10, 'neurons': 15}\n",
      "-0.303070 (0.157655) with: {'batch_size': 64, 'epochs': 10, 'neurons': 20}\n",
      "-0.311359 (0.155023) with: {'batch_size': 64, 'epochs': 10, 'neurons': 25}\n",
      "-0.311536 (0.146427) with: {'batch_size': 64, 'epochs': 10, 'neurons': 30}\n",
      "-0.333067 (0.181358) with: {'batch_size': 64, 'epochs': 50, 'neurons': 1}\n",
      "-0.279220 (0.162525) with: {'batch_size': 64, 'epochs': 50, 'neurons': 5}\n",
      "-0.307114 (0.156512) with: {'batch_size': 64, 'epochs': 50, 'neurons': 10}\n",
      "-0.254119 (0.172804) with: {'batch_size': 64, 'epochs': 50, 'neurons': 15}\n",
      "-0.223345 (0.114735) with: {'batch_size': 64, 'epochs': 50, 'neurons': 20}\n",
      "-0.254073 (0.157927) with: {'batch_size': 64, 'epochs': 50, 'neurons': 25}\n",
      "-0.223865 (0.133350) with: {'batch_size': 64, 'epochs': 50, 'neurons': 30}\n",
      "-0.335978 (0.189165) with: {'batch_size': 64, 'epochs': 100, 'neurons': 1}\n",
      "-0.269238 (0.187640) with: {'batch_size': 64, 'epochs': 100, 'neurons': 5}\n",
      "-0.109814 (0.060235) with: {'batch_size': 64, 'epochs': 100, 'neurons': 10}\n",
      "-0.075914 (0.040500) with: {'batch_size': 64, 'epochs': 100, 'neurons': 15}\n",
      "-0.072476 (0.072121) with: {'batch_size': 64, 'epochs': 100, 'neurons': 20}\n",
      "-0.048822 (0.036733) with: {'batch_size': 64, 'epochs': 100, 'neurons': 25}\n",
      "-0.045848 (0.037132) with: {'batch_size': 64, 'epochs': 100, 'neurons': 30}\n",
      "-0.352819 (0.216367) with: {'batch_size': 64, 'epochs': 200, 'neurons': 1}\n",
      "-0.103468 (0.082963) with: {'batch_size': 64, 'epochs': 200, 'neurons': 5}\n",
      "-0.028873 (0.026894) with: {'batch_size': 64, 'epochs': 200, 'neurons': 10}\n",
      "-0.018158 (0.006046) with: {'batch_size': 64, 'epochs': 200, 'neurons': 15}\n",
      "-0.017096 (0.003401) with: {'batch_size': 64, 'epochs': 200, 'neurons': 20}\n",
      "-0.016359 (0.002873) with: {'batch_size': 64, 'epochs': 200, 'neurons': 25}\n",
      "-0.017095 (0.005212) with: {'batch_size': 64, 'epochs': 200, 'neurons': 30}\n",
      "-0.307515 (0.115548) with: {'batch_size': 128, 'epochs': 10, 'neurons': 1}\n",
      "-0.263879 (0.132683) with: {'batch_size': 128, 'epochs': 10, 'neurons': 5}\n",
      "-0.277050 (0.171279) with: {'batch_size': 128, 'epochs': 10, 'neurons': 10}\n",
      "-0.295342 (0.149713) with: {'batch_size': 128, 'epochs': 10, 'neurons': 15}\n",
      "-0.312553 (0.156067) with: {'batch_size': 128, 'epochs': 10, 'neurons': 20}\n",
      "-0.293401 (0.136342) with: {'batch_size': 128, 'epochs': 10, 'neurons': 25}\n",
      "-0.288134 (0.134683) with: {'batch_size': 128, 'epochs': 10, 'neurons': 30}\n",
      "-0.319483 (0.226849) with: {'batch_size': 128, 'epochs': 50, 'neurons': 1}\n",
      "-0.317960 (0.141035) with: {'batch_size': 128, 'epochs': 50, 'neurons': 5}\n",
      "-0.291696 (0.160947) with: {'batch_size': 128, 'epochs': 50, 'neurons': 10}\n",
      "-0.277825 (0.160587) with: {'batch_size': 128, 'epochs': 50, 'neurons': 15}\n",
      "-0.312134 (0.182013) with: {'batch_size': 128, 'epochs': 50, 'neurons': 20}\n",
      "-0.287129 (0.161275) with: {'batch_size': 128, 'epochs': 50, 'neurons': 25}\n",
      "-0.292597 (0.178456) with: {'batch_size': 128, 'epochs': 50, 'neurons': 30}\n",
      "-0.242682 (0.123723) with: {'batch_size': 128, 'epochs': 100, 'neurons': 1}\n",
      "-0.281906 (0.127404) with: {'batch_size': 128, 'epochs': 100, 'neurons': 5}\n",
      "-0.284961 (0.161701) with: {'batch_size': 128, 'epochs': 100, 'neurons': 10}\n",
      "-0.206446 (0.120042) with: {'batch_size': 128, 'epochs': 100, 'neurons': 15}\n",
      "-0.213532 (0.156071) with: {'batch_size': 128, 'epochs': 100, 'neurons': 20}\n",
      "-0.188664 (0.116857) with: {'batch_size': 128, 'epochs': 100, 'neurons': 25}\n",
      "-0.175169 (0.097377) with: {'batch_size': 128, 'epochs': 100, 'neurons': 30}\n",
      "-0.288828 (0.136457) with: {'batch_size': 128, 'epochs': 200, 'neurons': 1}\n",
      "-0.266376 (0.200588) with: {'batch_size': 128, 'epochs': 200, 'neurons': 5}\n",
      "-0.102531 (0.081656) with: {'batch_size': 128, 'epochs': 200, 'neurons': 10}\n",
      "-0.075382 (0.042180) with: {'batch_size': 128, 'epochs': 200, 'neurons': 15}\n",
      "-0.053108 (0.049431) with: {'batch_size': 128, 'epochs': 200, 'neurons': 20}\n",
      "-0.043523 (0.028897) with: {'batch_size': 128, 'epochs': 200, 'neurons': 25}\n",
      "-0.029301 (0.014326) with: {'batch_size': 128, 'epochs': 200, 'neurons': 30}\n"
     ]
    }
   ],
   "source": [
    "# summarize results\n",
    "print(\"Best: %f using %s\" % (grid_result.best_score_, grid_result.best_params_))\n",
    "means = grid_result.cv_results_['mean_test_score']\n",
    "stds = grid_result.cv_results_['std_test_score']\n",
    "params = grid_result.cv_results_['params']\n",
    "for mean, stdev, param in zip(means, stds, params):\n",
    "    print(\"%f (%f) with: %r\" % (mean, stdev, param))\n"
   ]
  },
  {
   "cell_type": "markdown",
   "metadata": {},
   "source": [
    "### 2.4 Fit Model\n",
    "\n",
    "จากนั้นทำการสร้างโมเดล LSTM โดยกำหนดให้ใน hidden layer มี 50 neuron และ output layer มี 1 neuron สำหรับการทำนายอัตราแลกเปลี่ยนของสกุลเงิน\n",
    "สำหรับขนาดของข้อมูลนำเข้า (input shape) จะเป็น 1 time step จากชุดข้อมูลที่นำเข้า และมีฟีเจอร์จำนวน 4 ตัว\n",
    "\n",
    "เราจะใช้ Mean Absolute Error (MAE) เป็น loss funtion และใช้ optimizer เป็น Adam เพื่อทำการอัพเดทข้อมูล"
   ]
  },
  {
   "cell_type": "code",
   "execution_count": 11,
   "metadata": {
    "scrolled": false
   },
   "outputs": [
    {
     "name": "stderr",
     "output_type": "stream",
     "text": [
      "2022-06-02 06:15:15.940372: I tensorflow/core/platform/cpu_feature_guard.cc:142] This TensorFlow binary is optimized with oneAPI Deep Neural Network Library (oneDNN) to use the following CPU instructions in performance-critical operations:  AVX2 FMA\n",
      "To enable them in other operations, rebuild TensorFlow with the appropriate compiler flags.\n"
     ]
    },
    {
     "name": "stdout",
     "output_type": "stream",
     "text": [
      "Model: \"sequential\"\n",
      "_________________________________________________________________\n",
      "Layer (type)                 Output Shape              Param #   \n",
      "=================================================================\n",
      "lstm (LSTM)                  (None, 50)                11000     \n",
      "_________________________________________________________________\n",
      "dense (Dense)                (None, 1)                 51        \n",
      "=================================================================\n",
      "Total params: 11,051\n",
      "Trainable params: 11,051\n",
      "Non-trainable params: 0\n",
      "_________________________________________________________________\n"
     ]
    }
   ],
   "source": [
    "# กำหนด batch size กับ hidden neurons\n",
    "n_batch = 8\n",
    "n_neurons = 50\n",
    "\n",
    "# สร้าง LSTM Network โดยใช้ library Keras\n",
    "model = Sequential()\n",
    "model.add(LSTM(n_neurons, input_shape=(X_train.shape[1], X_train.shape[2]), stateful=False))\n",
    "model.add(Dense(ahead))\n",
    "model.compile(loss='mean_squared_error', optimizer='adam')\n",
    "model.summary()\n"
   ]
  },
  {
   "cell_type": "code",
   "execution_count": 12,
   "metadata": {},
   "outputs": [
    {
     "name": "stderr",
     "output_type": "stream",
     "text": [
      "2022-06-02 06:15:16.534812: I tensorflow/compiler/mlir/mlir_graph_optimization_pass.cc:185] None of the MLIR Optimization Passes are enabled (registered 2)\n"
     ]
    },
    {
     "name": "stdout",
     "output_type": "stream",
     "text": [
      "Epoch 1/50\n",
      "13/13 - 2s - loss: 0.2557 - val_loss: 0.1292\n",
      "Epoch 2/50\n",
      "13/13 - 0s - loss: 0.2294 - val_loss: 0.1182\n",
      "Epoch 3/50\n",
      "13/13 - 0s - loss: 0.2097 - val_loss: 0.1088\n",
      "Epoch 4/50\n",
      "13/13 - 0s - loss: 0.1912 - val_loss: 0.1003\n",
      "Epoch 5/50\n",
      "13/13 - 0s - loss: 0.1734 - val_loss: 0.0925\n",
      "Epoch 6/50\n",
      "13/13 - 0s - loss: 0.1561 - val_loss: 0.0852\n",
      "Epoch 7/50\n",
      "13/13 - 0s - loss: 0.1393 - val_loss: 0.0784\n",
      "Epoch 8/50\n",
      "13/13 - 0s - loss: 0.1232 - val_loss: 0.0722\n",
      "Epoch 9/50\n",
      "13/13 - 0s - loss: 0.1079 - val_loss: 0.0665\n",
      "Epoch 10/50\n",
      "13/13 - 0s - loss: 0.0936 - val_loss: 0.0614\n",
      "Epoch 11/50\n",
      "13/13 - 0s - loss: 0.0804 - val_loss: 0.0569\n",
      "Epoch 12/50\n",
      "13/13 - 0s - loss: 0.0686 - val_loss: 0.0528\n",
      "Epoch 13/50\n",
      "13/13 - 0s - loss: 0.0582 - val_loss: 0.0491\n",
      "Epoch 14/50\n",
      "13/13 - 0s - loss: 0.0492 - val_loss: 0.0458\n",
      "Epoch 15/50\n",
      "13/13 - 0s - loss: 0.0417 - val_loss: 0.0427\n",
      "Epoch 16/50\n",
      "13/13 - 0s - loss: 0.0356 - val_loss: 0.0398\n",
      "Epoch 17/50\n",
      "13/13 - 0s - loss: 0.0306 - val_loss: 0.0370\n",
      "Epoch 18/50\n",
      "13/13 - 0s - loss: 0.0267 - val_loss: 0.0344\n",
      "Epoch 19/50\n",
      "13/13 - 0s - loss: 0.0237 - val_loss: 0.0319\n",
      "Epoch 20/50\n",
      "13/13 - 0s - loss: 0.0213 - val_loss: 0.0296\n",
      "Epoch 21/50\n",
      "13/13 - 0s - loss: 0.0195 - val_loss: 0.0276\n",
      "Epoch 22/50\n",
      "13/13 - 0s - loss: 0.0180 - val_loss: 0.0259\n",
      "Epoch 23/50\n",
      "13/13 - 0s - loss: 0.0169 - val_loss: 0.0244\n",
      "Epoch 24/50\n",
      "13/13 - 0s - loss: 0.0161 - val_loss: 0.0232\n",
      "Epoch 25/50\n",
      "13/13 - 0s - loss: 0.0154 - val_loss: 0.0223\n",
      "Epoch 26/50\n",
      "13/13 - 0s - loss: 0.0149 - val_loss: 0.0215\n",
      "Epoch 27/50\n",
      "13/13 - 0s - loss: 0.0146 - val_loss: 0.0210\n",
      "Epoch 28/50\n",
      "13/13 - 0s - loss: 0.0143 - val_loss: 0.0206\n",
      "Epoch 29/50\n",
      "13/13 - 0s - loss: 0.0140 - val_loss: 0.0204\n",
      "Epoch 30/50\n",
      "13/13 - 0s - loss: 0.0139 - val_loss: 0.0202\n",
      "Epoch 31/50\n",
      "13/13 - 0s - loss: 0.0138 - val_loss: 0.0201\n",
      "Epoch 32/50\n",
      "13/13 - 0s - loss: 0.0137 - val_loss: 0.0200\n",
      "Epoch 33/50\n",
      "13/13 - 0s - loss: 0.0136 - val_loss: 0.0200\n",
      "Epoch 34/50\n",
      "13/13 - 0s - loss: 0.0135 - val_loss: 0.0200\n",
      "Epoch 35/50\n",
      "13/13 - 0s - loss: 0.0135 - val_loss: 0.0200\n",
      "Epoch 36/50\n",
      "13/13 - 0s - loss: 0.0134 - val_loss: 0.0200\n",
      "Epoch 37/50\n",
      "13/13 - 0s - loss: 0.0134 - val_loss: 0.0200\n",
      "Epoch 38/50\n",
      "13/13 - 0s - loss: 0.0134 - val_loss: 0.0200\n",
      "Epoch 39/50\n",
      "13/13 - 0s - loss: 0.0134 - val_loss: 0.0200\n",
      "Epoch 40/50\n",
      "13/13 - 0s - loss: 0.0133 - val_loss: 0.0200\n",
      "Epoch 41/50\n",
      "13/13 - 0s - loss: 0.0133 - val_loss: 0.0200\n",
      "Epoch 42/50\n",
      "13/13 - 0s - loss: 0.0133 - val_loss: 0.0200\n",
      "Epoch 43/50\n",
      "13/13 - 0s - loss: 0.0133 - val_loss: 0.0200\n",
      "Epoch 44/50\n",
      "13/13 - 0s - loss: 0.0133 - val_loss: 0.0200\n",
      "Epoch 45/50\n",
      "13/13 - 0s - loss: 0.0133 - val_loss: 0.0200\n",
      "Epoch 46/50\n",
      "13/13 - 0s - loss: 0.0133 - val_loss: 0.0200\n",
      "Epoch 47/50\n",
      "13/13 - 0s - loss: 0.0133 - val_loss: 0.0200\n",
      "Epoch 48/50\n",
      "13/13 - 0s - loss: 0.0132 - val_loss: 0.0200\n",
      "Epoch 49/50\n",
      "13/13 - 0s - loss: 0.0132 - val_loss: 0.0200\n",
      "Epoch 50/50\n",
      "13/13 - 0s - loss: 0.0132 - val_loss: 0.0200\n"
     ]
    }
   ],
   "source": [
    "# ทำการ train แบบจำลอง โดยกำหนดให้ epochs = 50\n",
    "history = model.fit(X_train, y_train, epochs=50, batch_size=n_batch, validation_data=(X_test, y_test), verbose=2, shuffle=False)\n"
   ]
  },
  {
   "cell_type": "code",
   "execution_count": 13,
   "metadata": {},
   "outputs": [
    {
     "data": {
      "image/png": "[encoded data removed]",
      "text/plain": [
       "<Figure size 720x504 with 1 Axes>"
      ]
     },
     "metadata": {
      "needs_background": "light"
     },
     "output_type": "display_data"
    }
   ],
   "source": [
    "# Plot training & validation loss values\n",
    "plt.plot(history.history['loss'], label='train')\n",
    "plt.plot(history.history['val_loss'], label='test')\n",
    "plt.legend()\n",
    "plt.xlabel('Epoch')\n",
    "plt.ylabel('Error')\n",
    "plt.show()\n"
   ]
  },
  {
   "cell_type": "markdown",
   "metadata": {},
   "source": [
    "### 2.5 Evaluate Model"
   ]
  },
  {
   "cell_type": "code",
   "execution_count": 14,
   "metadata": {},
   "outputs": [
    {
     "name": "stdout",
     "output_type": "stream",
     "text": [
      "Test RMSE: 0.5014\n",
      "Test MSE: 0.2514\n",
      "Test MAE: 0.3979\n"
     ]
    }
   ],
   "source": [
    "from sklearn.metrics import mean_squared_error, mean_absolute_error\n",
    "from numpy import concatenate\n",
    "from math import sqrt\n",
    "\n",
    "# make a prediction\n",
    "yhat = model.predict(X_test)\n",
    "test_X = X_test.reshape((X_test.shape[0], -ahead))\n",
    "\n",
    "# invert scaling for forecast\n",
    "inv_yhat = concatenate((yhat, test_X[:, -3:]), axis=1)\n",
    "inv_yhat = scaler.inverse_transform(inv_yhat)\n",
    "inv_yhat = inv_yhat[:,0]\n",
    "\n",
    "# invert scaling for actual\n",
    "test_y = y_test.reshape((len(y_test), 1))\n",
    "inv_y = concatenate((test_y, test_X[:, -3:]), axis=1)\n",
    "inv_y = scaler.inverse_transform(inv_y)\n",
    "inv_y = inv_y[:,0]\n",
    "\n",
    "# Calculate Error\n",
    "print('Test RMSE: %.4f' % sqrt(mean_squared_error(inv_y, inv_yhat)))\n",
    "print('Test MSE: %.4f' % mean_squared_error(inv_y, inv_yhat))\n",
    "print('Test MAE: %.4f' % mean_absolute_error(inv_y, inv_yhat))\n"
   ]
  },
  {
   "cell_type": "code",
   "execution_count": 15,
   "metadata": {
    "scrolled": true
   },
   "outputs": [
    {
     "data": {
      "image/png": "[encoded data removed]",
      "text/plain": [
       "<Figure size 720x504 with 1 Axes>"
      ]
     },
     "metadata": {
      "needs_background": "light"
     },
     "output_type": "display_data"
    }
   ],
   "source": [
    "plt.plot(inv_y, marker='.', label=\"actual\", color=\"blue\")\n",
    "plt.plot(inv_yhat, label=\"prediction\", color=\"red\")\n",
    "plt.ylabel('BAHT', size=15)\n",
    "plt.xlabel('Time step', size=15)\n",
    "plt.legend(fontsize=15)\n",
    "plt.show()\n"
   ]
  },
  {
   "cell_type": "code",
   "execution_count": 16,
   "metadata": {},
   "outputs": [
    {
     "data": {
      "text/html": [
       "<div>\n",
       "<style scoped>\n",
       "    .dataframe tbody tr th:only-of-type {\n",
       "        vertical-align: middle;\n",
       "    }\n",
       "\n",
       "    .dataframe tbody tr th {\n",
       "        vertical-align: top;\n",
       "    }\n",
       "\n",
       "    .dataframe thead th {\n",
       "        text-align: right;\n",
       "    }\n",
       "</style>\n",
       "<table border=\"1\" class=\"dataframe\">\n",
       "  <thead>\n",
       "    <tr style=\"text-align: right;\">\n",
       "      <th></th>\n",
       "      <th>actual</th>\n",
       "      <th>prediction</th>\n",
       "    </tr>\n",
       "  </thead>\n",
       "  <tbody>\n",
       "    <tr>\n",
       "      <th>0</th>\n",
       "      <td>32.4702</td>\n",
       "      <td>31.985240</td>\n",
       "    </tr>\n",
       "    <tr>\n",
       "      <th>1</th>\n",
       "      <td>33.2698</td>\n",
       "      <td>32.425117</td>\n",
       "    </tr>\n",
       "    <tr>\n",
       "      <th>2</th>\n",
       "      <td>33.0248</td>\n",
       "      <td>33.272045</td>\n",
       "    </tr>\n",
       "    <tr>\n",
       "      <th>3</th>\n",
       "      <td>32.6181</td>\n",
       "      <td>33.010072</td>\n",
       "    </tr>\n",
       "    <tr>\n",
       "      <th>4</th>\n",
       "      <td>32.7718</td>\n",
       "      <td>32.608498</td>\n",
       "    </tr>\n",
       "  </tbody>\n",
       "</table>\n",
       "</div>"
      ],
      "text/plain": [
       "    actual  prediction\n",
       "0  32.4702   31.985240\n",
       "1  33.2698   32.425117\n",
       "2  33.0248   33.272045\n",
       "3  32.6181   33.010072\n",
       "4  32.7718   32.608498"
      ]
     },
     "execution_count": 16,
     "metadata": {},
     "output_type": "execute_result"
    }
   ],
   "source": [
    "reg_df = pd.DataFrame({'actual': inv_y, 'prediction': inv_yhat})\n",
    "reg_df.head()"
   ]
  },
  {
   "cell_type": "code",
   "execution_count": 17,
   "metadata": {},
   "outputs": [
    {
     "data": {
      "text/plain": [
       "<AxesSubplot:xlabel='actual', ylabel='prediction'>"
      ]
     },
     "execution_count": 17,
     "metadata": {},
     "output_type": "execute_result"
    },
    {
     "data": {
      "image/png": "[encoded data removed]",
      "text/plain": [
       "<Figure size 720x504 with 1 Axes>"
      ]
     },
     "metadata": {},
     "output_type": "display_data"
    }
   ],
   "source": [
    "sns.set_style('whitegrid')\n",
    "sns.regplot(x='actual', y='prediction', data=reg_df)\n"
   ]
  },
  {
   "cell_type": "code",
   "execution_count": null,
   "metadata": {},
   "outputs": [],
   "source": []
  }
 ],
 "metadata": {
  "interpreter": {
   "hash": "537eb0b9ab41e35305ac70be8380de5b6e6ad4466bdb4dd5f41276d259677184"
  },
  "kernelspec": {
   "display_name": "Python 3.9.7 ('py4ai')",
   "language": "python",
   "name": "python3"
  },
  "language_info": {
   "codemirror_mode": {
    "name": "ipython",
    "version": 3
   },
   "file_extension": ".py",
   "mimetype": "text/x-python",
   "name": "python",
   "nbconvert_exporter": "python",
   "pygments_lexer": "ipython3",
   "version": "3.9.7"
  }
 },
 "nbformat": 4,
 "nbformat_minor": 2
}
